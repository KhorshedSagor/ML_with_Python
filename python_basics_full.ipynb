{
 "cells": [
  {
   "cell_type": "markdown",
   "id": "af77ea1d",
   "metadata": {},
   "source": [
    "\n",
    "# 🐍 Python Basics — Full Multi‑Section Interactive Notebook\n",
    "\n",
    "This notebook was generated from your text notes and expanded with explanations, best practices, and interactive exercises.  \n",
    "Work through it **top to bottom**. Cells are grouped by topic and labeled with ✅ *Run me* / 🧩 *Practice* / 💡 *Notes*.\n",
    "\n",
    "---\n",
    "\n",
    "## Table of Contents\n",
    "1. Variables & Data Types\n",
    "2. Type Casting\n",
    "3. Input Handling & Printing\n",
    "4. Conditionals (if / elif / else)\n",
    "5. Calculator & Converters\n",
    "6. Logical Operators & Conditional Expressions\n",
    "7. Strings: Methods, Validation & Slicing\n",
    "8. While Loops\n",
    "9. For Loops & Nested Loops\n",
    "10. Timers & Countdown\n",
    "11. Collections (List, Tuple, Set, Dict) + 2D Collections\n",
    "12. Shopping Cart (Exercise)\n",
    "13. Quiz Game (Multiple Choice)\n",
    "14. Dictionaries Deep Dive + Concession Stand\n",
    "15. Randomness (Number Guessing, RPS)\n",
    "16. Dice Roller (ASCII Art)\n",
    "17. Substitution Cipher (Encrypt/Decrypt)\n",
    "18. Functions (args, kwargs, defaults)\n",
    "19. Iterables & Membership\n",
    "20. List Comprehensions\n"
   ]
  },
  {
   "cell_type": "markdown",
   "id": "f70a0cf7",
   "metadata": {},
   "source": [
    "## 1) Variables & Data Types\n",
    "✅ *Run me* — basic examples:"
   ]
  },
  {
   "cell_type": "code",
   "execution_count": null,
   "id": "6eaee1cd",
   "metadata": {},
   "outputs": [],
   "source": [
    "\n",
    "# Variables hold values. A variable behaves like the value it contains.\n",
    "first_name = \"Bro\"       # str\n",
    "age = 25                 # int\n",
    "price = 10.99            # float\n",
    "is_student = True        # bool\n",
    "\n",
    "print(f\"Hello {first_name}\")\n",
    "print(f\"You are {age} years old\")\n",
    "print(f\"Your price is {price}\")\n",
    "print(f\"Student? {is_student}\")\n"
   ]
  },
  {
   "cell_type": "markdown",
   "id": "adef4673",
   "metadata": {},
   "source": [
    "## 2) Type Casting\n",
    "💡 Convert values from one type to another (explicit > implicit)."
   ]
  },
  {
   "cell_type": "code",
   "execution_count": null,
   "id": "12e7d119",
   "metadata": {},
   "outputs": [],
   "source": [
    "\n",
    "name = \"Bro\"\n",
    "age = 21\n",
    "gpa = 1.9\n",
    "student = True\n",
    "\n",
    "print(type(name), type(age), type(gpa), type(student))\n",
    "\n",
    "# explicit casts\n",
    "age_as_float = float(age)\n",
    "gpa_as_int = int(gpa)          # truncates toward zero\n",
    "student_as_str = str(student)\n",
    "non_empty_to_bool = bool(name) # any non-empty string is True\n",
    "\n",
    "print(age_as_float, gpa_as_int, student_as_str, non_empty_to_bool)\n"
   ]
  },
  {
   "cell_type": "markdown",
   "id": "b85071bf",
   "metadata": {},
   "source": [
    "## 3) Input Handling & Printing\n",
    "🧩 *Practice* — robust input with guards:"
   ]
  },
  {
   "cell_type": "code",
   "execution_count": null,
   "id": "c75e7518",
   "metadata": {},
   "outputs": [],
   "source": [
    "\n",
    "# A safe input pattern using try/except and strip/upper/lower\n",
    "def ask_int(prompt, min_val=None, max_val=None):\n",
    "    while True:\n",
    "        raw = input(prompt).strip()\n",
    "        try:\n",
    "            val = int(raw)\n",
    "            if (min_val is not None and val < min_val) or (max_val is not None and val > max_val):\n",
    "                print(f\"Please enter a number between {min_val} and {max_val}.\")\n",
    "                continue\n",
    "            return val\n",
    "        except ValueError:\n",
    "            print(\"Please enter a valid integer.\")\n",
    "\n",
    "def ask_float(prompt, min_val=None):\n",
    "    while True:\n",
    "        raw = input(prompt).strip()\n",
    "        try:\n",
    "            val = float(raw)\n",
    "            if min_val is not None and val < min_val:\n",
    "                print(f\"Please enter a value >= {min_val}.\")\n",
    "                continue\n",
    "            return val\n",
    "        except ValueError:\n",
    "            print(\"Please enter a valid number.\")\n",
    "\n",
    "print(\"Try ask_int() and ask_float() above if you want to accept user input safely.\")\n"
   ]
  },
  {
   "cell_type": "markdown",
   "id": "adc38056",
   "metadata": {},
   "source": [
    "## 4) Conditionals (if / elif / else)\n",
    "✅ *Run me*:"
   ]
  },
  {
   "cell_type": "code",
   "execution_count": null,
   "id": "99056b3e",
   "metadata": {},
   "outputs": [],
   "source": [
    "\n",
    "age = 18\n",
    "if age >= 100:\n",
    "    print(\"You are too old to sign up\")\n",
    "elif age >= 18:\n",
    "    print(\"You are now signed up\")\n",
    "elif age < 0:\n",
    "    print(\"You haven't been born yet\")\n",
    "else:\n",
    "    print(\"You must be 18+ to sign up\")\n"
   ]
  },
  {
   "cell_type": "code",
   "execution_count": null,
   "id": "32516938",
   "metadata": {},
   "outputs": [],
   "source": [
    "\n",
    "# Y/N example\n",
    "response = \"Y\"\n",
    "if response.upper() == \"Y\":\n",
    "    print(\"Have some food\")\n",
    "else:\n",
    "    print(\"No food for you!\")\n"
   ]
  },
  {
   "cell_type": "code",
   "execution_count": null,
   "id": "fbc4efeb",
   "metadata": {},
   "outputs": [],
   "source": [
    "\n",
    "# Empty string check\n",
    "name = \"Alice\"\n",
    "if name == \"\":\n",
    "    print(\"You did not enter your name!\")\n",
    "else:\n",
    "    print(f\"Hello {name}\")\n"
   ]
  },
  {
   "cell_type": "code",
   "execution_count": null,
   "id": "6cfeab0f",
   "metadata": {},
   "outputs": [],
   "source": [
    "\n",
    "# Boolean flag\n",
    "online = False\n",
    "print(\"You are online\" if online else \"You are offline\")\n"
   ]
  },
  {
   "cell_type": "markdown",
   "id": "67a917af",
   "metadata": {},
   "source": [
    "## 5) Calculator & Converters\n",
    "✅ *Run me*:"
   ]
  },
  {
   "cell_type": "code",
   "execution_count": null,
   "id": "0cedfbd2",
   "metadata": {},
   "outputs": [],
   "source": [
    "\n",
    "# Calculator supporting + - * / ** % //\n",
    "def calc(operator, num1, num2):\n",
    "    if operator == \"+\":\n",
    "        return num1 + num2\n",
    "    elif operator == \"-\":\n",
    "        return num1 - num2\n",
    "    elif operator == \"*\":\n",
    "        return num1 * num2\n",
    "    elif operator == \"/\":\n",
    "        return num1 / num2\n",
    "    elif operator == \"**\":\n",
    "        return num1 ** num2\n",
    "    elif operator == \"%\":\n",
    "        return num1 % num2\n",
    "    elif operator == \"//\":\n",
    "        return num1 // num2\n",
    "    else:\n",
    "        raise ValueError(\"Invalid operator\")\n",
    "\n",
    "print(calc(\"+\", 2, 3))\n",
    "print(calc(\"**\", 2, 5))\n",
    "print(calc(\"//\", 7, 2))\n"
   ]
  },
  {
   "cell_type": "code",
   "execution_count": null,
   "id": "ff288c55",
   "metadata": {},
   "outputs": [],
   "source": [
    "\n",
    "# Weight converter\n",
    "def convert_weight(weight, unit):\n",
    "    unit = unit.upper()\n",
    "    if unit == \"K\":\n",
    "        return round(weight * 2.205, 1), \"Lbs.\"\n",
    "    elif unit == \"L\":\n",
    "        return round(weight / 2.205, 1), \"Kgs.\"\n",
    "    else:\n",
    "        raise ValueError(\"Unit must be 'K' or 'L'\")\n",
    "\n",
    "print(convert_weight(70, \"K\"))\n",
    "print(convert_weight(154, \"L\"))\n"
   ]
  },
  {
   "cell_type": "code",
   "execution_count": null,
   "id": "be892b31",
   "metadata": {},
   "outputs": [],
   "source": [
    "\n",
    "# Temperature converter\n",
    "def convert_temp(temp, unit):\n",
    "    unit = unit.upper()\n",
    "    if unit == \"C\":\n",
    "        return round((9 * temp) / 5 + 32, 1), \"°F\"\n",
    "    elif unit == \"F\":\n",
    "        return round((temp - 32) * 5 / 9, 1), \"°C\"\n",
    "    else:\n",
    "        raise ValueError(\"Unit must be 'C' or 'F'\")\n",
    "\n",
    "print(convert_temp(0, \"C\"))\n",
    "print(convert_temp(32, \"F\"))\n"
   ]
  },
  {
   "cell_type": "markdown",
   "id": "0ca2d81b",
   "metadata": {},
   "source": [
    "## 6) Logical Operators & Conditional Expressions (Ternary)"
   ]
  },
  {
   "cell_type": "code",
   "execution_count": null,
   "id": "80072bf4",
   "metadata": {},
   "outputs": [],
   "source": [
    "\n",
    "temp = 20\n",
    "sunny = True\n",
    "\n",
    "print(\"The temperature is bad\" if (temp <= 0 or temp >= 30) else \"The temperature is good\")\n",
    "print(\"It is cloudy\" if not sunny else \"It is sunny\")\n",
    "\n",
    "num = 5\n",
    "a, b = 6, 7\n",
    "age = 13\n",
    "temperature = 20\n",
    "user_role = \"guest\"\n",
    "\n",
    "print(\"Positive\" if num > 0 else \"Negative\")\n",
    "print(\"EVEN\" if num % 2 == 0 else \"ODD\")\n",
    "print(max(a, b), min(a, b))\n",
    "print(\"Adult\" if age >= 18 else \"Child\")\n",
    "print(\"HOT\" if temperature > 20 else \"COLD\")\n",
    "print(\"Full Access\" if user_role == \"admin\" else \"Limited Access\")\n"
   ]
  },
  {
   "cell_type": "markdown",
   "id": "f49760d8",
   "metadata": {},
   "source": [
    "## 7) Strings: Methods, Validation & Slicing"
   ]
  },
  {
   "cell_type": "code",
   "execution_count": null,
   "id": "e8fc3359",
   "metadata": {},
   "outputs": [],
   "source": [
    "\n",
    "name = \"bro code\"\n",
    "phone = \"555-123-4567\"\n",
    "print(len(name))\n",
    "print(name.capitalize())\n",
    "print(name.upper())\n",
    "print(name.lower())\n",
    "print(name.replace(\" \", \"_\"))\n",
    "print(phone.replace(\"-\", \"\"))\n"
   ]
  },
  {
   "cell_type": "code",
   "execution_count": null,
   "id": "f28b1363",
   "metadata": {},
   "outputs": [],
   "source": [
    "\n",
    "# Username validation\n",
    "def validate_username(username):\n",
    "    if len(username) > 12:\n",
    "        return \"Your name can't be more than 12 characters\"\n",
    "    elif \" \" in username:\n",
    "        return \"Your username can't contain spaces\"\n",
    "    elif not username.isalpha():\n",
    "        return \"Your username can't contain digits or symbols\"\n",
    "    else:\n",
    "        return f\"Welcome {username}!\"\n",
    "\n",
    "print(validate_username(\"Alice\"))\n",
    "print(validate_username(\"Alice123\"))\n"
   ]
  },
  {
   "cell_type": "code",
   "execution_count": null,
   "id": "4b13ed20",
   "metadata": {},
   "outputs": [],
   "source": [
    "\n",
    "# Slicing & indexing\n",
    "credit_number = \"1234-5678-9012-3456\"\n",
    "print(credit_number[0])\n",
    "print(credit_number[0:4], credit_number[:4], credit_number[4:8], credit_number[4:])\n",
    "print(credit_number[-1], credit_number[-4:])\n",
    "print(credit_number[::2])\n",
    "print(credit_number[::-1])  # reversed\n"
   ]
  },
  {
   "cell_type": "code",
   "execution_count": null,
   "id": "5b5ef129",
   "metadata": {},
   "outputs": [],
   "source": [
    "\n",
    "# Email split (username / domain)\n",
    "email = \"Bro123@fake.com\"\n",
    "username = email[:email.index(\"@\")]\n",
    "domain = email[email.index(\"@\")+1:]\n",
    "print(f\"Your username is {username} and domain is {domain}\")\n"
   ]
  },
  {
   "cell_type": "code",
   "execution_count": null,
   "id": "add3d4ef",
   "metadata": {},
   "outputs": [],
   "source": [
    "\n",
    "# Format specifiers\n",
    "price1, price2, price3 = 3.14159, -987.65, 12.34\n",
    "print(f\"price1 is: ${price1:.2f}\")\n",
    "print(f\"price2 is: ${price2:>10.2f}\")\n",
    "print(f\"price3 is: ${price3:^10,.2f}\")\n"
   ]
  },
  {
   "cell_type": "markdown",
   "id": "5df75cea",
   "metadata": {},
   "source": [
    "## 8) While Loops (input validation patterns)"
   ]
  },
  {
   "cell_type": "code",
   "execution_count": null,
   "id": "0686379c",
   "metadata": {},
   "outputs": [],
   "source": [
    "\n",
    "# Name prompt (non-empty)\n",
    "name = \"Bob\"\n",
    "while name == \"\":\n",
    "    print(\"You did not enter your name!\")\n",
    "    name = input(\"Enter your name: \")\n",
    "print(f\"Hello {name}\")\n"
   ]
  },
  {
   "cell_type": "code",
   "execution_count": null,
   "id": "d48d4554",
   "metadata": {},
   "outputs": [],
   "source": [
    "\n",
    "# Non-negative age\n",
    "age = 5\n",
    "while age < 0:\n",
    "    print(\"Age can't be negative\")\n",
    "    age = int(input(\"Enter your age: \"))\n",
    "print(f\"You are {age} years old\")\n"
   ]
  },
  {
   "cell_type": "code",
   "execution_count": null,
   "id": "db1b31db",
   "metadata": {},
   "outputs": [],
   "source": [
    "\n",
    "# Sentinel value\n",
    "food = \"pizza\"\n",
    "while food.lower() != \"q\":\n",
    "    print(f\"You like {food}\")\n",
    "    break  # remove this break to actually loop with user input\n",
    "print(\"bye\")\n"
   ]
  },
  {
   "cell_type": "code",
   "execution_count": null,
   "id": "e21ce25f",
   "metadata": {},
   "outputs": [],
   "source": [
    "\n",
    "# Range enforcement\n",
    "num = 7\n",
    "while num < 1 or num > 10:\n",
    "    print(f\"{num} is not valid\")\n",
    "    num = int(input(\"Enter a # between 1 - 10: \"))\n",
    "print(f\"You picked the number {num}\")\n"
   ]
  },
  {
   "cell_type": "markdown",
   "id": "6e00ff98",
   "metadata": {},
   "source": [
    "## 9) For Loops & Nested Loops"
   ]
  },
  {
   "cell_type": "code",
   "execution_count": null,
   "id": "de8a32b1",
   "metadata": {},
   "outputs": [],
   "source": [
    "\n",
    "for x in range(1, 11):\n",
    "    print(x)\n",
    "for x in reversed(range(1, 11)):\n",
    "    print(x)\n",
    "for x in range(1, 11, 2):\n",
    "    print(x)\n"
   ]
  },
  {
   "cell_type": "code",
   "execution_count": null,
   "id": "5350a7b0",
   "metadata": {},
   "outputs": [],
   "source": [
    "\n",
    "credit_card = \"1234-5678-9012-3456\"\n",
    "for ch in credit_card:\n",
    "    print(ch)\n"
   ]
  },
  {
   "cell_type": "code",
   "execution_count": null,
   "id": "f20d781d",
   "metadata": {},
   "outputs": [],
   "source": [
    "\n",
    "# continue / break\n",
    "for x in range(1, 21):\n",
    "    if x == 13:\n",
    "        continue\n",
    "    print(x)\n",
    "\n",
    "for x in range(1, 21):\n",
    "    if x == 13:\n",
    "        break\n",
    "    print(x)\n"
   ]
  },
  {
   "cell_type": "code",
   "execution_count": null,
   "id": "9032a107",
   "metadata": {},
   "outputs": [],
   "source": [
    "\n",
    "# Nested loops (grid)\n",
    "rows, columns, symbol = 3, 5, \"*\"\n",
    "for _ in range(rows):\n",
    "    for _ in range(columns):\n",
    "        print(symbol, end=\"\")\n",
    "    print()\n"
   ]
  },
  {
   "cell_type": "markdown",
   "id": "1a62b5d0",
   "metadata": {},
   "source": [
    "## 10) Timers & Countdown (uses time.sleep)"
   ]
  },
  {
   "cell_type": "code",
   "execution_count": null,
   "id": "89772b11",
   "metadata": {},
   "outputs": [],
   "source": [
    "\n",
    "import time\n",
    "\n",
    "def countdown(seconds):\n",
    "    for x in range(seconds, 0, -1):\n",
    "        secs = x % 60\n",
    "        mins = (x // 60) % 60\n",
    "        hrs  = x // 3600\n",
    "        print(f\"{hrs:02}:{mins:02}:{secs:02}\")\n",
    "        # time.sleep(1)  # Uncomment to actually wait\n",
    "    print(\"TIME'S UP!\")\n",
    "\n",
    "countdown(5)  # demo with 5 seconds\n"
   ]
  },
  {
   "cell_type": "markdown",
   "id": "94d33aec",
   "metadata": {},
   "source": [
    "## 11) Collections: List, Tuple, Set, Dict + 2D Structures"
   ]
  },
  {
   "cell_type": "code",
   "execution_count": null,
   "id": "068dbf18",
   "metadata": {},
   "outputs": [],
   "source": [
    "\n",
    "# Basic collections\n",
    "foods = []\n",
    "prices = []\n",
    "basket = {\"apple\", \"banana\", \"apple\"}  # set removes duplicates\n",
    "coords = (10, 20)\n",
    "print(foods, prices, basket, coords)\n"
   ]
  },
  {
   "cell_type": "code",
   "execution_count": null,
   "id": "63490d07",
   "metadata": {},
   "outputs": [],
   "source": [
    "\n",
    "# 2D examples (valid combos)\n",
    "num_pad_list = [[1,2,3],[4,5,6],[7,8,9],[\"*\",0,\"#\"]]   # list of lists\n",
    "num_pad_tuple = ((1,2,3),(4,5,6),(7,8,9),(\"*\",0,\"#\"))  # tuple of tuples\n",
    "num_pad_mixed = ([1,2,3],[4,5,6],[7,8,9],[\"*\",0,\"#\"])  # tuple/list mixtures are fine\n",
    "\n",
    "for row in num_pad_list:\n",
    "    for num in row:\n",
    "        print(num, end=\" \")\n",
    "    print()\n"
   ]
  },
  {
   "cell_type": "markdown",
   "id": "c1961743",
   "metadata": {},
   "source": [
    "💡 **Why some combos are invalid:**\n",
    "- `set` elements must be hashable (immutable). Lists are mutable → **not hashable** → cannot be inside a set.\n",
    "- Tuples are hashable **only if** all their elements are hashable."
   ]
  },
  {
   "cell_type": "markdown",
   "id": "dc41c0b6",
   "metadata": {},
   "source": [
    "## 12) 🛒 Shopping Cart — Exercise"
   ]
  },
  {
   "cell_type": "code",
   "execution_count": null,
   "id": "769a0438",
   "metadata": {},
   "outputs": [],
   "source": [
    "\n",
    "# Simple cart using parallel lists\n",
    "foods, prices = [], []\n",
    "def add_item(food, price):\n",
    "    foods.append(food)\n",
    "    prices.append(price)\n",
    "\n",
    "add_item(\"apple\", 1.2)\n",
    "add_item(\"bread\", 2.5)\n",
    "add_item(\"milk\", 1.8)\n",
    "\n",
    "print(\"----- YOUR CART -----\")\n",
    "for f in foods:\n",
    "    print(f, end=\" \")\n",
    "total = sum(prices)\n",
    "print(f\"\\nTotal: ${total:.2f}\")\n"
   ]
  },
  {
   "cell_type": "markdown",
   "id": "b6b45409",
   "metadata": {},
   "source": [
    "## 13) 🎯 Quiz Game (Multiple Choice)"
   ]
  },
  {
   "cell_type": "code",
   "execution_count": null,
   "id": "66eb0fbb",
   "metadata": {},
   "outputs": [],
   "source": [
    "\n",
    "questions = (\n",
    "    \"How many elements are in the periodic table?: \",\n",
    "    \"Which animal lays the largest eggs?: \",\n",
    "    \"What is the most abundant gas in Earth's atmosphere?: \",\n",
    "    \"How many bones are in the human body?: \",\n",
    "    \"Which planet in the solar system is the hottest?: \"\n",
    ")\n",
    "options = (\n",
    "    (\"A. 116\", \"B. 117\", \"C. 118\", \"D. 119\"),\n",
    "    (\"A. Whale\", \"B. Crocodile\", \"C. Elephant\", \"D. Ostrich\"),\n",
    "    (\"A. Nitrogen\", \"B. Oxygen\", \"C. Carbon-Dioxide\", \"D. Hydrogen\"),\n",
    "    (\"A. 206\", \"B. 207\", \"C. 208\", \"D. 209\"),\n",
    "    (\"A. Mercury\", \"B. Venus\", \"C. Earth\", \"D. Mars\"),\n",
    ")\n",
    "answers = (\"C\", \"D\", \"A\", \"A\", \"B\")\n",
    "\n",
    "# Demo run (no input): simulate guesses\n",
    "guesses = [\"C\",\"D\",\"A\",\"B\",\"B\"]\n",
    "score = 0\n",
    "\n",
    "for i, q in enumerate(questions):\n",
    "    print(\"\\n----------------------\")\n",
    "    print(q)\n",
    "    for opt in options[i]:\n",
    "        print(opt)\n",
    "    guess = guesses[i]\n",
    "    print(\"Your guess:\", guess)\n",
    "    if guess == answers[i]:\n",
    "        score += 1\n",
    "        print(\"CORRECT!\")\n",
    "    else:\n",
    "        print(\"INCORRECT! Correct:\", answers[i])\n",
    "\n",
    "print(\"\\n----------------------\")\n",
    "print(\"RESULTS\")\n",
    "print(f\"Score: {score}/{len(questions)} = {int(score/len(questions)*100)}%\")\n"
   ]
  },
  {
   "cell_type": "markdown",
   "id": "38b35184",
   "metadata": {},
   "source": [
    "## 14) Dictionaries Deep Dive + Concession Stand"
   ]
  },
  {
   "cell_type": "code",
   "execution_count": null,
   "id": "ee0f9d3a",
   "metadata": {},
   "outputs": [],
   "source": [
    "\n",
    "capitals = {\"USA\": \"Washington D.C.\",\"India\":\"New Delhi\",\"China\":\"Beijing\",\"Russia\":\"Moscow\"}\n",
    "print(list(capitals.keys()))\n",
    "print(list(capitals.values()))\n",
    "print(list(capitals.items()))\n"
   ]
  },
  {
   "cell_type": "code",
   "execution_count": null,
   "id": "e19bafb5",
   "metadata": {},
   "outputs": [],
   "source": [
    "\n",
    "menu = {\"pizza\": 3.00,\"nachos\": 4.50,\"popcorn\": 6.00,\"fries\": 2.50,\"chips\": 1.00,\"pretzel\": 3.50,\"soda\": 3.00,\"lemonade\": 4.25}\n",
    "cart = [\"pizza\",\"soda\",\"fries\"]\n",
    "total = 0\n",
    "print(\"--------- MENU ---------\")\n",
    "for k,v in menu.items():\n",
    "    print(f\"{k:10}: ${v:.2f}\")\n",
    "print(\"------------------------\")\n",
    "print(\"------ YOUR ORDER ------\")\n",
    "for item in cart:\n",
    "    if item in menu:\n",
    "        total += menu[item]\n",
    "        print(item, end=\" \")\n",
    "print(f\"\\nTotal is: ${total:.2f}\")\n"
   ]
  },
  {
   "cell_type": "markdown",
   "id": "1c1f25d0",
   "metadata": {},
   "source": [
    "## 15) Randomness — Number Guessing & Rock‑Paper‑Scissors"
   ]
  },
  {
   "cell_type": "code",
   "execution_count": null,
   "id": "ac1d94c3",
   "metadata": {},
   "outputs": [],
   "source": [
    "\n",
    "import random\n",
    "\n",
    "def number_guessing(low=1, high=100):\n",
    "    answer = random.randint(low, high)\n",
    "    guesses = 0\n",
    "    # Demo guesses (no input) — replace with input() for interactive play\n",
    "    for guess in [low, high, (low+high)//2, answer]:\n",
    "        guesses += 1\n",
    "        if guess < answer:\n",
    "            print(f\"{guess} is too low\")\n",
    "        elif guess > answer:\n",
    "            print(f\"{guess} is too high\")\n",
    "        else:\n",
    "            print(f\"{guess} is correct! in {guesses} guesses\")\n",
    "            break\n",
    "\n",
    "number_guessing()\n"
   ]
  },
  {
   "cell_type": "code",
   "execution_count": null,
   "id": "3d5e4689",
   "metadata": {},
   "outputs": [],
   "source": [
    "\n",
    "import random\n",
    "\n",
    "def rps_once(player):\n",
    "    options = (\"rock\",\"paper\",\"scissors\")\n",
    "    computer = random.choice(options)\n",
    "    print(f\"Player: {player} | Computer: {computer}\")\n",
    "    if player == computer:\n",
    "        return \"It's a tie!\"\n",
    "    elif (player, computer) in {(\"rock\",\"scissors\"),(\"paper\",\"rock\"),(\"scissors\",\"paper\")}:\n",
    "        return \"You win!\"\n",
    "    else:\n",
    "        return \"You lose!\"\n",
    "\n",
    "print(rps_once(\"rock\"))\n",
    "print(rps_once(\"paper\"))\n",
    "print(rps_once(\"scissors\"))\n"
   ]
  },
  {
   "cell_type": "markdown",
   "id": "f5b6f000",
   "metadata": {},
   "source": [
    "## 16) Dice Roller (ASCII Art)"
   ]
  },
  {
   "cell_type": "code",
   "execution_count": null,
   "id": "12cb1801",
   "metadata": {},
   "outputs": [],
   "source": [
    "\n",
    "import random\n",
    "\n",
    "dice_art = {\n",
    "    1: (\"┌─────────┐\",\"│         │\",\"│    ●    │\",\"│         │\",\"└─────────┘\"),\n",
    "    2: (\"┌─────────┐\",\"│  ●      │\",\"│         │\",\"│      ●  │\",\"└─────────┘\"),\n",
    "    3: (\"┌─────────┐\",\"│  ●      │\",\"│    ●    │\",\"│      ●  │\",\"└─────────┘\"),\n",
    "    4: (\"┌─────────┐\",\"│  ●   ●  │\",\"│         │\",\"│  ●   ●  │\",\"└─────────┘\"),\n",
    "    5: (\"┌─────────┐\",\"│  ●   ●  │\",\"│    ●    │\",\"│  ●   ●  │\",\"└─────────┘\"),\n",
    "    6: (\"┌─────────┐\",\"│  ●   ●  │\",\"│  ●   ●  │\",\"│  ●   ●  │\",\"└─────────┘\")\n",
    "}\n",
    "\n",
    "def roll_dice(num_of_dice=3):\n",
    "    dice = [random.randint(1,6) for _ in range(num_of_dice)]\n",
    "    for line in range(5):\n",
    "        print(\"\".join(dice_art[d][line] for d in dice))\n",
    "    print(\"total:\", sum(dice))\n",
    "\n",
    "roll_dice(3)\n"
   ]
  },
  {
   "cell_type": "markdown",
   "id": "c1a44e35",
   "metadata": {},
   "source": [
    "## 17) Substitution Cipher (Encrypt / Decrypt)"
   ]
  },
  {
   "cell_type": "code",
   "execution_count": null,
   "id": "348c46db",
   "metadata": {},
   "outputs": [],
   "source": [
    "\n",
    "import random, string\n",
    "chars = \" \" + string.punctuation + string.digits + string.ascii_letters\n",
    "chars = list(chars)\n",
    "key = chars.copy()\n",
    "random.shuffle(key)\n",
    "\n",
    "def encrypt(plain_text):\n",
    "    cipher_text = \"\"\n",
    "    for ch in plain_text:\n",
    "        idx = chars.index(ch)\n",
    "        cipher_text += key[idx]\n",
    "    return cipher_text\n",
    "\n",
    "def decrypt(cipher_text):\n",
    "    plain = \"\"\n",
    "    for ch in cipher_text:\n",
    "        idx = key.index(ch)\n",
    "        plain += chars[idx]\n",
    "    return plain\n",
    "\n",
    "msg = \"Hello, World! 123\"\n",
    "enc = encrypt(msg)\n",
    "dec = decrypt(enc)\n",
    "print(\"original:\", msg)\n",
    "print(\"encrypted:\", enc)\n",
    "print(\"decrypted:\", dec)\n"
   ]
  },
  {
   "cell_type": "markdown",
   "id": "7b541f79",
   "metadata": {},
   "source": [
    "## 18) Functions — Defaults, *args, **kwargs, keyword arguments"
   ]
  },
  {
   "cell_type": "code",
   "execution_count": null,
   "id": "69624e8a",
   "metadata": {},
   "outputs": [],
   "source": [
    "\n",
    "def display_invoice(username, amount, due_date):\n",
    "    print(f\"Hello {username}\")\n",
    "    print(f\"Your bill of ${amount:.2f} is due: {due_date}\")\n",
    "\n",
    "def create_name(first, last):\n",
    "    return first.capitalize() + \" \" + last.capitalize()\n",
    "\n",
    "def net_price(list_price, discount=0, tax=0.05):\n",
    "    return list_price * (1 - discount) * (1 + tax)\n",
    "\n",
    "print(create_name(\"spongebob\", \"squarepants\"))\n",
    "print(net_price(500), net_price(500, 0.1), net_price(500, 0.1, 0))\n"
   ]
  },
  {
   "cell_type": "code",
   "execution_count": null,
   "id": "a08699e2",
   "metadata": {},
   "outputs": [],
   "source": [
    "\n",
    "# Keyword arguments & printing helpers\n",
    "def hello(greeting, title, first, last):\n",
    "    print(f\"{greeting} {title}{first} {last}\")\n",
    "\n",
    "hello(\"Hello\", title=\"Mr.\", last=\"John\", first=\"James\")\n",
    "print(\"1\",\"2\",\"3\",\"4\",\"5\", sep=\"-\")\n",
    "\n",
    "def get_phone(country, area, first, last):\n",
    "    return f\"{country}-{area}-{first}-{last}\"\n",
    "print(get_phone(country=1, area=123, first=456, last=7890))\n"
   ]
  },
  {
   "cell_type": "code",
   "execution_count": null,
   "id": "ecf9f5a2",
   "metadata": {},
   "outputs": [],
   "source": [
    "\n",
    "def add(*nums):\n",
    "    total = 0\n",
    "    for n in nums:\n",
    "        total += n\n",
    "    return total\n",
    "\n",
    "def display_name(*args):\n",
    "    print(\"Hello\", *args)\n",
    "\n",
    "def print_address(**kwargs):\n",
    "    print(\" \".join(str(v) for v in kwargs.values()))\n",
    "\n",
    "def shipping_label(*args, **kwargs):\n",
    "    print(\" \".join(str(a) for a in args))\n",
    "    if \"apt\" in kwargs:\n",
    "        print(f\"{kwargs.get('street')} {kwargs.get('apt')}\")\n",
    "    elif \"pobox\" in kwargs:\n",
    "        print(f\"{kwargs.get('street')}\\n{kwargs.get('pobox')}\")\n",
    "    else:\n",
    "        print(f\"{kwargs.get('street')}\")\n",
    "    print(f\"{kwargs.get('city')}, {kwargs.get('state')} {kwargs.get('zip')}\")\n",
    "\n",
    "print(add(1,2,3,4))\n",
    "display_name(\"Dr.\",\"Spongebob\",\"Harold\",\"Squarepants\",\"III\")\n",
    "print_address(street=\"123 Fake St.\", pobox=\"P.O Box 777\", city=\"Detroit\", state=\"MI\", zip=\"54321\")\n",
    "shipping_label(\"Dr.\",\"Spongebob\",\"Squarepants\", street=\"123 Fake St.\", pobox=\"PO box #1001\", city=\"Detroit\", state=\"MI\", zip=\"54321\")\n"
   ]
  },
  {
   "cell_type": "markdown",
   "id": "89d1aaa8",
   "metadata": {},
   "source": [
    "## 19) Iterables & Membership Operators"
   ]
  },
  {
   "cell_type": "code",
   "execution_count": null,
   "id": "63675d21",
   "metadata": {},
   "outputs": [],
   "source": [
    "\n",
    "my_list = [1,2,3,4,5]\n",
    "my_tuple = (1,2,3,4,5)\n",
    "my_set = {\"apple\",\"orange\",\"banana\",\"coconut\"}\n",
    "my_name = \"Bro Code\"\n",
    "my_dict = {'A':1,'B':2,'C':3}\n",
    "\n",
    "for item in my_list: pass\n",
    "for k in my_dict: pass\n",
    "for v in my_dict.values(): pass\n",
    "for k,v in my_dict.items(): pass\n",
    "\n",
    "word = \"APPLE\"\n",
    "print(\"P\" in word, \"Z\" in word)\n",
    "\n",
    "students = {\"Spongebob\",\"Patrick\",\"Sandy\"}\n",
    "print(\"Sandy\" in students, \"Squidward\" in students)\n",
    "\n",
    "grades = {\"Sandy\":'A',\"Squidward\":'B',\"Spongebob\":'C',\"Patrick\":'D'}\n",
    "print(\"Sandy\" in grades, grades.get(\"Sandy\"))\n",
    "email = \"BroCode@gmail.com\"\n",
    "print(\"Valid email\" if (\"@\" in email and \".\" in email) else \"Invalid email\")\n"
   ]
  },
  {
   "cell_type": "markdown",
   "id": "06ac1498",
   "metadata": {},
   "source": [
    "## 20) List Comprehensions"
   ]
  },
  {
   "cell_type": "code",
   "execution_count": null,
   "id": "ea30fc4c",
   "metadata": {},
   "outputs": [],
   "source": [
    "\n",
    "doubles = [x*2 for x in range(1,11)]\n",
    "triples = [y*3 for y in range(1,11)]\n",
    "squares = [z*z for z in range(1,11)]\n",
    "\n",
    "fruits = [\"apple\",\"orange\",\"banana\",\"coconut\"]\n",
    "uppercase = [f.upper() for f in fruits]\n",
    "first_chars = [f[0] for f in fruits]\n",
    "\n",
    "numbers = [1,-2,3,-4,5,-6,8,-7]\n",
    "positive = [x for x in numbers if x >= 0]\n",
    "negative = [x for x in numbers if x < 0]\n",
    "even = [x for x in numbers if x % 2 == 0]\n",
    "odd = [x for x in numbers if x % 2 == 1]\n",
    "\n",
    "grades = [85,42,79,90,56,61,30]\n",
    "passing = [g for g in grades if g >= 60]\n",
    "\n",
    "print(doubles, triples, squares)\n",
    "print(uppercase, first_chars)\n",
    "print(positive, negative, even, odd, passing)\n"
   ]
  }
 ],
 "metadata": {},
 "nbformat": 4,
 "nbformat_minor": 5
}
