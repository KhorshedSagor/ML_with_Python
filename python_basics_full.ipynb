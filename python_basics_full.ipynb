{
 "cells": [
  {
   "cell_type": "markdown",
   "id": "af77ea1d",
   "metadata": {},
   "source": [
    "\n",
    "# 🐍 Python Basics — Full Multi‑Section Interactive Notebook\n",
    "\n",
    "This notebook was generated from youtube video and expanded with explanations, best practices, and interactive exercises.  \n",
    "Work through it **top to bottom**. Cells are grouped by topic.\n",
    "\n",
    "---\n",
    "\n",
    "## Table of Contents\n",
    "1. Variables & Data Types\n",
    "2. Type Casting\n",
    "3. Arithmatic Operations & Math Functions\n",
    "4. Input handling & Printing\n",
    "5. String Methods\n",
    "6. String Slicing & Indexing\n",
    "7. Conditionals (if/elif/else)\n",
    "8. Logical Operators & Conditional Expressions (Ternary)\n",
    "9. While Loops\n",
    "10. For Loops & Nested Loops\n",
    "11. Collections: List, Tuple, Set, Dict + 2D Structures\n",
    "12. Invalid / Forbidden Combos in Collections\n",
    "13. Indexing in Python Collections\n",
    "14. Functions, Nested Functions, *args, **kwargs\n",
    "15. Random Numbers\n",
    "16. Functions Exercise\n",
    "17. Exception\n",
    "18. Iterables & Membership\n",
    "19. List Comprehensions\n",
    "20. \n"
   ]
  },
  {
   "cell_type": "markdown",
   "id": "f70a0cf7",
   "metadata": {},
   "source": [
    "## 1) Variables & Data Types"
   ]
  },
  {
   "cell_type": "code",
   "execution_count": 1,
   "id": "6eaee1cd",
   "metadata": {},
   "outputs": [
    {
     "name": "stdout",
     "output_type": "stream",
     "text": [
      "Hello Bro\n",
      "You are 25 years old\n",
      "Your price is 10.99\n",
      "Student? True\n"
     ]
    }
   ],
   "source": [
    "\n",
    "# Variables hold values/data. A variable behaves like the value it contains. Variables can have 4 types of data.\n",
    "first_name = \"Bro\"       # str\n",
    "age = 25                 # int\n",
    "price = 10.99            # float\n",
    "is_student = True        # bool\n",
    "\n",
    "print(f\"Hello {first_name}\")\n",
    "print(f\"You are {age} years old\")\n",
    "print(f\"Your price is {price}\")\n",
    "print(f\"Student? {is_student}\")\n"
   ]
  },
  {
   "cell_type": "markdown",
   "id": "adef4673",
   "metadata": {},
   "source": [
    "## 2) Type Casting\n",
    "💡 Convert values from one type to another (explicit > implicit)."
   ]
  },
  {
   "cell_type": "code",
   "execution_count": 3,
   "id": "12e7d119",
   "metadata": {},
   "outputs": [
    {
     "name": "stdout",
     "output_type": "stream",
     "text": [
      "<class 'str'> <class 'int'> <class 'float'> <class 'bool'>\n",
      "21.0 1 True True False\n"
     ]
    }
   ],
   "source": [
    "\n",
    "name = \"Bro\"\n",
    "age = 21\n",
    "gpa = 1.9\n",
    "student = True\n",
    "empty = \"\"\n",
    "\n",
    "print(type(name), type(age), type(gpa), type(student))\n",
    "\n",
    "# explicit casts\n",
    "age_as_float = float(age)\n",
    "gpa_as_int = int(gpa)          # truncates toward zero\n",
    "student_as_str = str(student)\n",
    "non_empty_to_bool = bool(name) # any non-empty string is True\n",
    "empty_to_bool = bool(empty) # empty string is False\n",
    "\n",
    "print(age_as_float, gpa_as_int, student_as_str, non_empty_to_bool, empty_to_bool)\n"
   ]
  },
  {
   "cell_type": "markdown",
   "id": "aa9f7357",
   "metadata": {},
   "source": [
    "# 3) Arithmatic Operations & Math Functions"
   ]
  },
  {
   "cell_type": "code",
   "execution_count": null,
   "id": "3773f723",
   "metadata": {},
   "outputs": [],
   "source": [
    "a = 5\n",
    "b = 2\n",
    "print(a + b)  # addition\n",
    "print(a - b)  # subtraction\n",
    "print(a * b)  # multiplication\n",
    "print(a / b)  # division (float result)\n",
    "print(a // b) # floor division (int result)\n",
    "print(a % b)  # modulus (remainder)\n",
    "print(a ** b) # exponentiation (a raised to the power of b)"
   ]
  },
  {
   "cell_type": "code",
   "execution_count": null,
   "id": "46d9a9f3",
   "metadata": {},
   "outputs": [],
   "source": [
    "# Comparison operators\n",
    "print(a == b)  # equal\n",
    "print(a != b)  # not equal\n",
    "print(a > b)   # greater than\n",
    "print(a < b)   # less than\n",
    "print(a >= b)  # greater than or equal to\n",
    "print(a <= b)  # less than or equal to\n",
    "# Logical operators\n",
    "print(a > 0 and b > 0)  # logical AND\n",
    "print(a > 0 or b < 0)   # logical OR\n",
    "print(not (a > b))      # logical NOT\n",
    "# Assignment operators\n",
    "a += 2  # equivalent to a = a + 2\n",
    "b *= 3  # equivalent to b = b * 3\n",
    "print(a, b)  # a is now 7, b is now 6"
   ]
  },
  {
   "cell_type": "code",
   "execution_count": 13,
   "id": "5b609938",
   "metadata": {},
   "outputs": [
    {
     "name": "stdout",
     "output_type": "stream",
     "text": [
      "4\n",
      "25\n",
      "5\n",
      "-4\n"
     ]
    }
   ],
   "source": [
    "# Built in functions\n",
    "x = 5\n",
    "y = 3.14\n",
    "z = -4\n",
    "\n",
    "print(abs(z))   \n",
    "print(pow(x,2))\n",
    "print(max(x,y,z))\n",
    "print(min(x,y,z))"
   ]
  },
  {
   "cell_type": "code",
   "execution_count": 14,
   "id": "19a994ac",
   "metadata": {},
   "outputs": [
    {
     "name": "stdout",
     "output_type": "stream",
     "text": [
      "3.141592653589793\n",
      "2.718281828459045\n",
      "3.1144823004794873\n",
      "10\n",
      "9\n"
     ]
    }
   ],
   "source": [
    "# Math functions\n",
    "import math\n",
    "x = 9.7\n",
    "print(math.pi)\n",
    "print(math.e)\n",
    "print(math.sqrt(x))\n",
    "print(math.ceil(x))  # rounds up\n",
    "print(math.floor(x)) # rounds down"
   ]
  },
  {
   "cell_type": "markdown",
   "id": "ef40a317",
   "metadata": {},
   "source": [
    "# 4) Input Handling & Printing\n",
    "Take input from user and print them"
   ]
  },
  {
   "cell_type": "code",
   "execution_count": 9,
   "id": "666bafc8",
   "metadata": {},
   "outputs": [
    {
     "name": "stdout",
     "output_type": "stream",
     "text": [
      "Enter your name: \n",
      "Hello  you are  years old\n"
     ]
    }
   ],
   "source": [
    "# User input is always a string, so we need to convert it to the appropriate type if necessary.\n",
    "name = input(print(\"Enter your name: \"))\n",
    "age = input(\"Enter your age: \")\n",
    "print(type(name), type(age))  # Both are strings\n",
    "print(\"Hello \" + name + \" you are \" + age + \" years old\")    # String concatenation"
   ]
  },
  {
   "cell_type": "code",
   "execution_count": 10,
   "id": "be8caa17",
   "metadata": {},
   "outputs": [
    {
     "name": "stdout",
     "output_type": "stream",
     "text": [
      "Enter your name: \n",
      "Hello ttt you are tt years old\n"
     ]
    }
   ],
   "source": [
    "# Using f-string\n",
    "name = input(print(\"Enter your name: \"))\n",
    "age = input(\"Enter your age: \")\n",
    "\n",
    "print(f\"Hello {name} you are {age} years old\")  # String interpolation (f-string)"
   ]
  },
  {
   "cell_type": "markdown",
   "id": "caef4f2b",
   "metadata": {},
   "source": [
    "# 5) Sring Methods\n",
    "Different string methods\n",
    "\n"
   ]
  },
  {
   "cell_type": "code",
   "execution_count": 4,
   "id": "73560433",
   "metadata": {},
   "outputs": [
    {
     "name": "stdout",
     "output_type": "stream",
     "text": [
      "5 -1 Sagor SAGOR sagor False True 0 01303320263\n"
     ]
    }
   ],
   "source": [
    "name = input(\"Enter your name: \")\n",
    "phone_number = input(\"Enter your phone #: \")\n",
    "\n",
    "length = len(name)                              # length of the string\n",
    "index = name.find(\"s\")                          # index of first occurrence of \"s\"\n",
    "name_capital = name.capitalize()                # capitalize first letter\n",
    "name_upper = name.upper()                       # convert to uppercase\n",
    "name_lower = name.lower()                       # convert to lowercase\n",
    "name_is_digit = name.isdigit()                  # check if all characters are digits\n",
    "name_is_alpha = name.isalpha()                  # check if all characters are alphabetic\n",
    "phone_number_count = phone_number.count(\" \")                # count occurrences of space in phone number\n",
    "phone_number_formatted = phone_number.replace(\"-\", \"\")      # remove dashes from phone number\n",
    "\n",
    "print(length, index, name_capital, name_upper, name_lower, name_is_digit, name_is_alpha, phone_number_count, phone_number_formatted)"
   ]
  },
  {
   "cell_type": "markdown",
   "id": "5b90d254",
   "metadata": {},
   "source": [
    "# 6) String Slicing & Indexing"
   ]
  },
  {
   "cell_type": "code",
   "execution_count": 11,
   "id": "33b5d367",
   "metadata": {},
   "outputs": [
    {
     "name": "stdout",
     "output_type": "stream",
     "text": [
      "1\n",
      "1234\n",
      "1234\n",
      "-567\n",
      "-5678-9012-3456\n",
      "6\n",
      "3456\n",
      "13-6891-46\n",
      "6543-2109-8765-4321\n"
     ]
    }
   ],
   "source": [
    "# Slicing & indexing. Format: string[start:end:step]\n",
    "credit_number = \"1234-5678-9012-3456\"\n",
    "print(credit_number[0])    # first character\n",
    "print(credit_number[0:4])   # first 4 characters\n",
    "print(credit_number[:4])    # first 4 characters\n",
    "print(credit_number[4:8])   # characters 5 to 8\n",
    "print(credit_number[4:])    # characters 5 to end\n",
    "print(credit_number[-1])    # last character\n",
    "print(credit_number[-4:])   # last 4 characters\n",
    "print(credit_number[::2])   # every second character\n",
    "print(credit_number[::-1])  # reversed\n"
   ]
  },
  {
   "cell_type": "markdown",
   "id": "785e8f9e",
   "metadata": {},
   "source": [
    "Remember print always returns a new line, We can escape it by using the end parameter."
   ]
  },
  {
   "cell_type": "code",
   "execution_count": 12,
   "id": "38322153",
   "metadata": {},
   "outputs": [
    {
     "name": "stdout",
     "output_type": "stream",
     "text": [
      "This is the first line\n",
      "This is the second line This is the third line\n"
     ]
    }
   ],
   "source": [
    "print(\"This is the first line\")\n",
    "print(\"This is the second line\", end=\" \")  # end parameter to avoid new line\n",
    "print(\"This is the third line\")  # continues on the same line"
   ]
  },
  {
   "cell_type": "code",
   "execution_count": 16,
   "id": "5b5ef129",
   "metadata": {},
   "outputs": [
    {
     "name": "stdout",
     "output_type": "stream",
     "text": [
      "Your username is Bro123 and domain is fake.com\n"
     ]
    }
   ],
   "source": [
    "\n",
    "# Email split (username / domain)\n",
    "email = \"Bro123@fake.com\"\n",
    "username = email[:email.index(\"@\")]\n",
    "domain = email[email.index(\"@\")+1:]\n",
    "print(f\"Your username is {username} and domain is {domain}\")"
   ]
  },
  {
   "cell_type": "code",
   "execution_count": null,
   "id": "add3d4ef",
   "metadata": {},
   "outputs": [],
   "source": [
    "\n",
    "# Format specifiers\n",
    "price1, price2, price3 = 3.14159, -987.65, 12.34\n",
    "print(f\"price1 is: ${price1:.2f}\")\n",
    "print(f\"price2 is: ${price2:>10.2f}\")\n",
    "print(f\"price3 is: ${price3:^10,.2f}\")\n"
   ]
  },
  {
   "cell_type": "markdown",
   "id": "adc38056",
   "metadata": {},
   "source": [
    "# 7) Conditionals (if / elif / else)\n",
    "✅ *Run me*:"
   ]
  },
  {
   "cell_type": "code",
   "execution_count": 15,
   "id": "99056b3e",
   "metadata": {},
   "outputs": [
    {
     "name": "stdout",
     "output_type": "stream",
     "text": [
      "You are now signed up\n"
     ]
    }
   ],
   "source": [
    "\n",
    "age = 18\n",
    "if age >= 100:\n",
    "    print(\"You are too old to sign up\")\n",
    "elif age >= 18:\n",
    "    print(\"You are now signed up\")\n",
    "elif age < 0:\n",
    "    print(\"You haven't been born yet\")\n",
    "else:\n",
    "    print(\"You must be 18+ to sign up\")\n"
   ]
  },
  {
   "cell_type": "code",
   "execution_count": null,
   "id": "fbc4efeb",
   "metadata": {},
   "outputs": [],
   "source": [
    "\n",
    "# Empty string check\n",
    "name = \"Alice\"\n",
    "if name == \"\":\n",
    "    print(\"You did not enter your name!\")\n",
    "else:\n",
    "    print(f\"Hello {name}\")\n"
   ]
  },
  {
   "cell_type": "code",
   "execution_count": null,
   "id": "6cfeab0f",
   "metadata": {},
   "outputs": [],
   "source": [
    "\n",
    "# Boolean flag\n",
    "online = False\n",
    "print(\"You are online\" if online else \"You are offline\")\n"
   ]
  },
  {
   "cell_type": "markdown",
   "id": "0ca2d81b",
   "metadata": {},
   "source": [
    "# 8) Logical Operators & Conditional Expressions (Ternary)"
   ]
  },
  {
   "cell_type": "code",
   "execution_count": null,
   "id": "80072bf4",
   "metadata": {},
   "outputs": [],
   "source": [
    "\n",
    "temp = 20\n",
    "sunny = True\n",
    "\n",
    "print(\"The temperature is bad\" if (temp <= 0 or temp >= 30) else \"The temperature is good\")\n",
    "print(\"It is cloudy\" if not sunny else \"It is sunny\")\n",
    "\n",
    "num = 5\n",
    "a, b = 6, 7\n",
    "age = 13\n",
    "temperature = 20\n",
    "user_role = \"guest\"\n",
    "\n",
    "print(\"Positive\" if num > 0 else \"Negative\")\n",
    "print(\"EVEN\" if num % 2 == 0 else \"ODD\")\n",
    "print(max(a, b), min(a, b))\n",
    "print(\"Adult\" if age >= 18 else \"Child\")\n",
    "print(\"HOT\" if temperature > 20 else \"COLD\")\n",
    "print(\"Full Access\" if user_role == \"admin\" else \"Limited Access\")\n"
   ]
  },
  {
   "cell_type": "markdown",
   "id": "5df75cea",
   "metadata": {},
   "source": [
    "# 9) While Loops (input validation patterns)"
   ]
  },
  {
   "cell_type": "code",
   "execution_count": null,
   "id": "0686379c",
   "metadata": {},
   "outputs": [],
   "source": [
    "\n",
    "# Name prompt (non-empty)\n",
    "name = \"Bob\"\n",
    "while name == \"\":\n",
    "    print(\"You did not enter your name!\")\n",
    "    name = input(\"Enter your name: \")\n",
    "print(f\"Hello {name}\")\n"
   ]
  },
  {
   "cell_type": "code",
   "execution_count": null,
   "id": "d48d4554",
   "metadata": {},
   "outputs": [],
   "source": [
    "\n",
    "# Non-negative age\n",
    "age = 5\n",
    "while age < 0:\n",
    "    print(\"Age can't be negative\")\n",
    "    age = int(input(\"Enter your age: \"))\n",
    "print(f\"You are {age} years old\")\n"
   ]
  },
  {
   "cell_type": "code",
   "execution_count": null,
   "id": "db1b31db",
   "metadata": {},
   "outputs": [],
   "source": [
    "\n",
    "# Sentinel value\n",
    "food = \"pizza\"\n",
    "while food.lower() != \"q\":\n",
    "    print(f\"You like {food}\")\n",
    "    break  # remove this break to actually loop with user input\n",
    "print(\"bye\")\n"
   ]
  },
  {
   "cell_type": "code",
   "execution_count": null,
   "id": "e21ce25f",
   "metadata": {},
   "outputs": [],
   "source": [
    "\n",
    "# Range enforcement\n",
    "num = 7\n",
    "while num < 1 or num > 10:\n",
    "    print(f\"{num} is not valid\")\n",
    "    num = int(input(\"Enter a # between 1 - 10: \"))\n",
    "print(f\"You picked the number {num}\")\n"
   ]
  },
  {
   "cell_type": "markdown",
   "id": "6e00ff98",
   "metadata": {},
   "source": [
    "# 10) For Loops & Nested Loops"
   ]
  },
  {
   "cell_type": "code",
   "execution_count": null,
   "id": "de8a32b1",
   "metadata": {},
   "outputs": [],
   "source": [
    "\n",
    "for x in range(1, 11):\n",
    "    print(x)\n",
    "for x in reversed(range(1, 11)):\n",
    "    print(x)\n",
    "for x in range(1, 11, 2):\n",
    "    print(x)\n"
   ]
  },
  {
   "cell_type": "code",
   "execution_count": null,
   "id": "f20d781d",
   "metadata": {},
   "outputs": [],
   "source": [
    "\n",
    "# continue / break\n",
    "for x in range(1, 21):\n",
    "    if x == 13:\n",
    "        continue\n",
    "    print(x)\n",
    "\n",
    "for x in range(1, 21):\n",
    "    if x == 13:\n",
    "        break\n",
    "    print(x)\n"
   ]
  },
  {
   "cell_type": "code",
   "execution_count": null,
   "id": "5350a7b0",
   "metadata": {},
   "outputs": [],
   "source": [
    "\n",
    "credit_card = \"1234-5678-9012-3456\"\n",
    "for ch in credit_card:\n",
    "    print(ch)\n"
   ]
  },
  {
   "cell_type": "code",
   "execution_count": null,
   "id": "9032a107",
   "metadata": {},
   "outputs": [],
   "source": [
    "\n",
    "# Nested loops (grid)\n",
    "rows, columns, symbol = 3, 5, \"*\"\n",
    "for _ in range(rows):\n",
    "    for _ in range(columns):\n",
    "        print(symbol, end=\"\")\n",
    "    print()\n"
   ]
  },
  {
   "cell_type": "markdown",
   "id": "94d33aec",
   "metadata": {},
   "source": [
    "# 11) Collections: List, Tuple, Set, Dict + 2D Structures"
   ]
  },
  {
   "cell_type": "markdown",
   "id": "26e2524c",
   "metadata": {},
   "source": [
    "1️⃣ List\n",
    "\n",
    "Ordered, mutable, allows duplicates.\n",
    "\n",
    "Methods: .append(), .insert(), .remove(), .pop(), .sort(), .reverse(), .count(), .index()."
   ]
  },
  {
   "cell_type": "code",
   "execution_count": null,
   "id": "068dbf18",
   "metadata": {},
   "outputs": [],
   "source": [
    "\n",
    "lst = [10, 20, 30]\n",
    "lst.append(40)      # Inserts 40 at the end\n",
    "lst.insert(1, 15)   # Inserts 15 at index 1\n",
    "lst.remove(20)      # Removes first occurrence of 20\n",
    "print(lst[2])       # Accesses element at index 2\n",
    "\n"
   ]
  },
  {
   "cell_type": "markdown",
   "id": "f5a14dd2",
   "metadata": {},
   "source": [
    "2️⃣ Tuple\n",
    "\n",
    "Ordered, immutable, allows duplicates.\n",
    "\n",
    "Methods: .count(), .index()."
   ]
  },
  {
   "cell_type": "code",
   "execution_count": null,
   "id": "73b5372f",
   "metadata": {},
   "outputs": [],
   "source": [
    "tup = (1, 2, 3, 2)\n",
    "print(tup.count(2)) # counts occurrences of 2\n",
    "print(tup.index(3)) # finds index of first occurrence of 3"
   ]
  },
  {
   "cell_type": "markdown",
   "id": "12c87e90",
   "metadata": {},
   "source": [
    "3️⃣ Set\n",
    "\n",
    "Unordered, unique elements, mutable.\n",
    "\n",
    "Methods: .add(), .remove(), .discard(), .union(), .intersection(), .difference()."
   ]
  },
  {
   "cell_type": "code",
   "execution_count": null,
   "id": "eb15db37",
   "metadata": {},
   "outputs": [],
   "source": [
    "s1 = {1, 2, 3}\n",
    "s2 = {3, 4, 5}\n",
    "s1.add(6)        # adds 6 to the set\n",
    "print(s1.union(s2))  # Union set\n",
    "print(s1.intersection(s2)) # Intersection set"
   ]
  },
  {
   "cell_type": "markdown",
   "id": "3c07c35f",
   "metadata": {},
   "source": [
    "4️⃣ Dictionary\n",
    "\n",
    "Key-value pairs, mutable, keys unique.\n",
    "\n",
    "Methods: .keys(), .values(), .items(), .get(), .update(), .pop()."
   ]
  },
  {
   "cell_type": "code",
   "execution_count": null,
   "id": "031b40ad",
   "metadata": {},
   "outputs": [],
   "source": [
    "d = {\"name\": \"Alice\", \"age\": 25}\n",
    "d[\"city\"] = \"NY\"\n",
    "print(d.get(\"age\"))        # 25\n",
    "print(d.keys())            # dict_keys(['name','age','city'])\n",
    "d.update({\"age\": 26})"
   ]
  },
  {
   "cell_type": "code",
   "execution_count": null,
   "id": "e19bafb5",
   "metadata": {},
   "outputs": [],
   "source": [
    "# Restaurant menu and order total\n",
    "menu = {\"pizza\": 3.00,\"nachos\": 4.50,\"popcorn\": 6.00,\"fries\": 2.50,\"chips\": 1.00,\"pretzel\": 3.50,\"soda\": 3.00,\"lemonade\": 4.25}\n",
    "cart = [\"pizza\",\"soda\",\"fries\"]\n",
    "total = 0\n",
    "print(\"--------- MENU ---------\")\n",
    "for k,v in menu.items():\n",
    "    print(f\"{k:10}: ${v:.2f}\")\n",
    "print(\"------------------------\")\n",
    "print(\"------ YOUR ORDER ------\")\n",
    "for item in cart:\n",
    "    if item in menu:\n",
    "        total += menu[item]\n",
    "        print(item, end=\" \")\n",
    "print(f\"\\nTotal is: ${total:.2f}\")\n"
   ]
  },
  {
   "cell_type": "markdown",
   "id": "5e8a9fca",
   "metadata": {},
   "source": [
    "2D Structures"
   ]
  },
  {
   "cell_type": "code",
   "execution_count": null,
   "id": "f6976e85",
   "metadata": {},
   "outputs": [],
   "source": [
    "# 2D List\n",
    "matrix = [[1, 2, 3], [4, 5, 6]]\n",
    "print(matrix[1][2])     # Accesses element at row 1, column 2\n",
    "\n",
    "# List of Tuples\n",
    "records = [(\"Alice\", 25), (\"Bob\", 30)]\n",
    "print(records[0][1])    # Accesses age of first record\n",
    "\n",
    "# Dict of Lists\n",
    "students = {\"A\": [85, 90], \"B\": [70, 75]}\n",
    "print(students[\"A\"][1])   # Accesses second score of student A\n",
    "\n",
    "# Dict of Dicts\n",
    "data = {\n",
    "  \"emp1\": {\"name\": \"Alice\", \"age\": 25},\n",
    "  \"emp2\": {\"name\": \"Bob\", \"age\": 30}\n",
    "}\n",
    "print(data[\"emp2\"][\"name\"]) # Accesses name of emp2"
   ]
  },
  {
   "cell_type": "markdown",
   "id": "374d12d7",
   "metadata": {},
   "source": [
    "# 12)🚫 Invalid / Forbidden Combos in Collections"
   ]
  },
  {
   "cell_type": "code",
   "execution_count": null,
   "id": "ca84bd6f",
   "metadata": {},
   "outputs": [],
   "source": [
    "# ❌ List\n",
    "\n",
    "# Keys must be immutable, so lists cannot be dictionary keys.\n",
    "\n",
    "d = {[1,2]: \"val\"}   # ❌ TypeError\n",
    "\n",
    "# ❌ Tuple\n",
    "\n",
    "# Tuples are immutable → cannot assign values.\n",
    "\n",
    "tup = (1,2,3)\n",
    "tup[0] = 10   # ❌ TypeError\n",
    "\n",
    "\n",
    "# Tuples can contain mutable objects (like lists) → but the inner list can still be modified.\n",
    "\n",
    "t = ([1,2], 3)\n",
    "t[0].append(4)   # ✅ Allowed → ([1,2,4], 3)\n",
    "\n",
    "# ❌ Set\n",
    "\n",
    "# No duplicates allowed.\n",
    "\n",
    "s = {1,2,2,3}   # becomes {1,2,3}\n",
    "\n",
    "\n",
    "# Unhashable types (lists, dicts, sets) cannot be set elements.\n",
    "\n",
    "s = {[1,2], 3}   # ❌ TypeError\n",
    "\n",
    "# ❌ Dictionary\n",
    "\n",
    "# Keys must be immutable (hashable): no list/dict/set as keys.\n",
    "\n",
    "d = {[\"a\", \"b\"]: 1}  # ❌ TypeError\n",
    "\n",
    "\n",
    "# Duplicate keys overwrite previous values.\n",
    "\n",
    "d = {\"a\":1, \"a\":2}\n",
    "print(d)   # {'a': 2}"
   ]
  },
  {
   "cell_type": "markdown",
   "id": "f47bbb0e",
   "metadata": {},
   "source": [
    "# 13)🎯 Indexing in Python Collections"
   ]
  },
  {
   "cell_type": "code",
   "execution_count": null,
   "id": "17c81635",
   "metadata": {},
   "outputs": [],
   "source": [
    "# 1️⃣ List (✅ Indexing Allowed)\n",
    "\n",
    "# Ordered, supports positive & negative indexing.\n",
    "\n",
    "# list[start:stop:step] slicing works.\n",
    "\n",
    "lst = [10, 20, 30, 40]\n",
    "print(lst[0])    # 10\n",
    "print(lst[-1])   # 40\n",
    "print(lst[1:3])  # [20, 30]\n",
    "\n",
    "# 2️⃣ Tuple (✅ Indexing Allowed)\n",
    "\n",
    "# Same as list, but immutable.\n",
    "\n",
    "tup = (5, 6, 7, 8)\n",
    "print(tup[2])    # 7\n",
    "print(tup[-2])   # 7\n",
    "\n",
    "# 3️⃣ Set (❌ No Indexing)\n",
    "\n",
    "# Unordered, so no index-based access.\n",
    "\n",
    "# Must use loops or set operations.\n",
    "\n",
    "s = {100, 200, 300}\n",
    "# print(s[0])   ❌ TypeError\n",
    "for x in s:      # ✅ Iteration works\n",
    "    print(x)\n",
    "\n",
    "# 4️⃣ Dictionary (✅ Key-based Indexing, ❌ Positional Indexing)\n",
    "\n",
    "# Access by key, not numeric index.\n",
    "\n",
    "dict.keys() & dict.values() # return iterables but not directly indexable unless converted to list.\n",
    "\n",
    "d = {\"name\":\"Alice\", \"age\":25}\n",
    "print(d[\"name\"])     # Alice  ✅\n",
    "# print(d[0])        ❌ KeyError\n",
    "print(list(d.keys())[0])   # \"name\" ✅\n",
    "\n",
    "# 5️⃣ 2D Structures\n",
    "# 2D List\n",
    "matrix = [[1,2,3],[4,5,6],[7,8,9]]\n",
    "print(matrix[1][2])   # 6\n",
    "\n",
    "# Dict of Lists\n",
    "marks = {\"A\":[85,90], \"B\":[70,75]}\n",
    "print(marks[\"A\"][0])  # 85\n",
    "\n",
    "# Dict of Dicts\n",
    "data = {\"emp1\":{\"name\":\"Ali\",\"age\":25}}\n",
    "print(data[\"emp1\"][\"age\"])  # 25\n",
    "\n",
    "# 🚫 Invalid Indexing Combos\n",
    "\n",
    "# Set → no indexing\n",
    "\n",
    "# Dict → no numeric index access\n",
    "\n",
    "# Out of range index → IndexError\n",
    "\n",
    "lst = [1,2,3]\n",
    "print(lst[5])   # ❌ IndexError"
   ]
  },
  {
   "cell_type": "markdown",
   "id": "4a2f69d5",
   "metadata": {},
   "source": [
    "# 14) Functions"
   ]
  },
  {
   "cell_type": "markdown",
   "id": "8f5848c4",
   "metadata": {},
   "source": [
    "1️⃣ Functions 📞\n",
    "\n",
    "Defined with def.\n",
    "\n",
    "Can take parameters and return values."
   ]
  },
  {
   "cell_type": "code",
   "execution_count": null,
   "id": "2d146d5a",
   "metadata": {},
   "outputs": [],
   "source": [
    "def greet(name):\n",
    "    print(f\"Hello, {name}!\")\n",
    "\n",
    "greet(\"Alice\")   # Hello, Alice!"
   ]
  },
  {
   "cell_type": "code",
   "execution_count": null,
   "id": "e98b3267",
   "metadata": {},
   "outputs": [],
   "source": [
    "def meet(name=\"Sagor\"):\n",
    "    print(f\"Hello, {name}!\")\n",
    "    \n",
    "meet()            # Uses default \"Sagor\""
   ]
  },
  {
   "cell_type": "markdown",
   "id": "cf926e99",
   "metadata": {},
   "source": [
    "2️⃣ Return Statement 🔙\n",
    "\n",
    "return sends value back to caller.\n",
    "\n",
    "Without return, function returns None."
   ]
  },
  {
   "cell_type": "code",
   "execution_count": null,
   "id": "dab690fd",
   "metadata": {},
   "outputs": [],
   "source": [
    "def add(a, b):\n",
    "    return a + b\n",
    "\n",
    "result = add(5, 3)   # 8"
   ]
  },
  {
   "cell_type": "markdown",
   "id": "02a4df08",
   "metadata": {},
   "source": [
    "3️⃣ Keyword Arguments 🔑\n",
    "\n",
    "Specify parameters by name.\n",
    "\n",
    "Order doesn’t matter if keywords are used."
   ]
  },
  {
   "cell_type": "code",
   "execution_count": null,
   "id": "f5d235fc",
   "metadata": {},
   "outputs": [],
   "source": [
    "def intro(name, age):\n",
    "    print(f\"{name} is {age} years old.\")\n",
    "\n",
    "intro(age=25, name=\"Bob\")"
   ]
  },
  {
   "cell_type": "markdown",
   "id": "7c4603a3",
   "metadata": {},
   "source": [
    "4️⃣ Nested Function Calls 🖇️\n",
    "\n",
    "One function’s return can be passed directly into another."
   ]
  },
  {
   "cell_type": "code",
   "execution_count": null,
   "id": "14f935b3",
   "metadata": {},
   "outputs": [],
   "source": [
    "def square(x): return x*x\n",
    "def double(x): return x*2\n",
    "\n",
    "print(square(double(3)))   # square(6) → 36"
   ]
  },
  {
   "cell_type": "markdown",
   "id": "ee8eb84b",
   "metadata": {},
   "source": [
    "5️⃣ Variable Scope 🔬\n",
    "\n",
    "Local: Inside function.\n",
    "\n",
    "Global: Outside function.\n",
    "\n",
    "Use global to modify global variable inside function."
   ]
  },
  {
   "cell_type": "code",
   "execution_count": null,
   "id": "c783b077",
   "metadata": {},
   "outputs": [],
   "source": [
    "x = 10   # global\n",
    "\n",
    "def test():\n",
    "    x = 5   # local\n",
    "    print(\"Local:\", x)\n",
    "\n",
    "test()          # Local: 5\n",
    "print(\"Global:\", x)  # Global: 10"
   ]
  },
  {
   "cell_type": "markdown",
   "id": "4a206fb3",
   "metadata": {},
   "source": [
    "6️⃣ *args 📦 (Variable Positional Arguments)\n",
    "\n",
    "Collects multiple arguments into a tuple."
   ]
  },
  {
   "cell_type": "code",
   "execution_count": null,
   "id": "b29ec5cd",
   "metadata": {},
   "outputs": [],
   "source": [
    "def total(*nums):\n",
    "    return sum(nums)\n",
    "\n",
    "print(total(1,2,3,4))   # 10"
   ]
  },
  {
   "cell_type": "markdown",
   "id": "a87458f9",
   "metadata": {},
   "source": [
    "7️⃣ **kwargs 🎁 (Variable Keyword Arguments)\n",
    "\n",
    "Collects keyword arguments into a dictionary."
   ]
  },
  {
   "cell_type": "code",
   "execution_count": null,
   "id": "d53cbd5c",
   "metadata": {},
   "outputs": [],
   "source": [
    "def info(**data):\n",
    "    for key, value in data.items():\n",
    "        print(f\"{key}: {value}\")\n",
    "\n",
    "info(name=\"Alice\", age=25, city=\"NY\")"
   ]
  },
  {
   "cell_type": "markdown",
   "id": "c2ee846b",
   "metadata": {},
   "source": [
    "⚡ Pro Tip: You can mix parameters → (normal, *args, **kwargs)"
   ]
  },
  {
   "cell_type": "code",
   "execution_count": null,
   "id": "768ed250",
   "metadata": {},
   "outputs": [],
   "source": [
    "def mix(a, *args, **kwargs):\n",
    "    print(a, args, kwargs)\n",
    "\n",
    "mix(10, 20, 30, x=5, y=6)\n",
    "# a=10, args=(20,30), kwargs={'x':5, 'y':6}"
   ]
  },
  {
   "cell_type": "markdown",
   "id": "cecc9fd2",
   "metadata": {},
   "source": [
    "# 15)Random Numbers\n",
    "Random numbers in a range or items in a list"
   ]
  },
  {
   "cell_type": "code",
   "execution_count": null,
   "id": "0d13e57f",
   "metadata": {},
   "outputs": [],
   "source": [
    "import random\n",
    "\n",
    "x = random.randint(1,6)\n",
    "y = random.random()\n",
    "\n",
    "myList = ['rock', 'paper', 'scissors']\n",
    "z = random.choice(myList)\n",
    "\n",
    "cards = [1,2,3,4,5,6,7,8,9,\"J\",\"Q\",\"K\",\"A\"]\n",
    "\n",
    "random.shuffle(cards)\n",
    "\n",
    "print(cards)"
   ]
  },
  {
   "cell_type": "markdown",
   "id": "9092c640",
   "metadata": {},
   "source": [
    "# 16) Functions Exercise"
   ]
  },
  {
   "cell_type": "code",
   "execution_count": null,
   "id": "ff288c55",
   "metadata": {},
   "outputs": [],
   "source": [
    "\n",
    "# Weight converter\n",
    "def convert_weight(weight, unit):\n",
    "    unit = unit.upper()\n",
    "    if unit == \"K\":\n",
    "        return round(weight * 2.205, 1), \"Lbs.\"\n",
    "    elif unit == \"L\":\n",
    "        return round(weight / 2.205, 1), \"Kgs.\"\n",
    "    else:\n",
    "        raise ValueError(\"Unit must be 'K' or 'L'\")\n",
    "\n",
    "print(convert_weight(70, \"K\"))\n",
    "print(convert_weight(154, \"L\"))\n"
   ]
  },
  {
   "cell_type": "code",
   "execution_count": null,
   "id": "be892b31",
   "metadata": {},
   "outputs": [],
   "source": [
    "\n",
    "# Temperature converter\n",
    "def convert_temp(temp, unit):\n",
    "    unit = unit.upper()\n",
    "    if unit == \"C\":\n",
    "        return round((9 * temp) / 5 + 32, 1), \"°F\"\n",
    "    elif unit == \"F\":\n",
    "        return round((temp - 32) * 5 / 9, 1), \"°C\"\n",
    "    else:\n",
    "        raise ValueError(\"Unit must be 'C' or 'F'\")\n",
    "\n",
    "print(convert_temp(0, \"C\"))\n",
    "print(convert_temp(32, \"F\"))\n"
   ]
  },
  {
   "cell_type": "code",
   "execution_count": null,
   "id": "ac1d94c3",
   "metadata": {},
   "outputs": [],
   "source": [
    "\n",
    "# Number guessing game\n",
    "import random\n",
    "\n",
    "def number_guessing(low=1, high=100):\n",
    "    answer = random.randint(low, high)\n",
    "    guesses = 0\n",
    "    # Demo guesses (no input) — replace with input() for interactive play\n",
    "    for guess in [low, high, (low+high)//2, answer]:\n",
    "        guesses += 1\n",
    "        if guess < answer:\n",
    "            print(f\"{guess} is too low\")\n",
    "        elif guess > answer:\n",
    "            print(f\"{guess} is too high\")\n",
    "        else:\n",
    "            print(f\"{guess} is correct! in {guesses} guesses\")\n",
    "            break\n",
    "\n",
    "number_guessing()\n"
   ]
  },
  {
   "cell_type": "code",
   "execution_count": null,
   "id": "3d5e4689",
   "metadata": {},
   "outputs": [],
   "source": [
    "# Rock, Paper, Scissors game\n",
    "import random\n",
    "\n",
    "def rps_once(player):\n",
    "    options = (\"rock\",\"paper\",\"scissors\")\n",
    "    computer = random.choice(options)\n",
    "    print(f\"Player: {player} | Computer: {computer}\")\n",
    "    if player == computer:\n",
    "        return \"It's a tie!\"\n",
    "    elif (player, computer) in {(\"rock\",\"scissors\"),(\"paper\",\"rock\"),(\"scissors\",\"paper\")}:\n",
    "        return \"You win!\"\n",
    "    else:\n",
    "        return \"You lose!\"\n",
    "\n",
    "print(rps_once(\"rock\"))\n",
    "print(rps_once(\"paper\"))\n",
    "print(rps_once(\"scissors\"))\n"
   ]
  },
  {
   "cell_type": "code",
   "execution_count": null,
   "id": "89772b11",
   "metadata": {},
   "outputs": [],
   "source": [
    "# Countdown timer\n",
    "import time\n",
    "\n",
    "def countdown(seconds):\n",
    "    for x in range(seconds, 0, -1):\n",
    "        secs = x % 60\n",
    "        mins = (x // 60) % 60\n",
    "        hrs  = x // 3600\n",
    "        print(f\"{hrs:02}:{mins:02}:{secs:02}\")\n",
    "        # time.sleep(1)  # Uncomment to actually wait\n",
    "    print(\"TIME'S UP!\")\n",
    "\n",
    "countdown(5)  # demo with 5 seconds\n"
   ]
  },
  {
   "cell_type": "code",
   "execution_count": null,
   "id": "769a0438",
   "metadata": {},
   "outputs": [],
   "source": [
    "\n",
    "# Simple shopping cart using parallel lists\n",
    "foods, prices = [], []\n",
    "def add_item(food, price):\n",
    "    foods.append(food)\n",
    "    prices.append(price)\n",
    "\n",
    "add_item(\"apple\", 1.2)\n",
    "add_item(\"bread\", 2.5)\n",
    "add_item(\"milk\", 1.8)\n",
    "\n",
    "print(\"----- YOUR CART -----\")\n",
    "for f in foods:\n",
    "    print(f, end=\" \")\n",
    "total = sum(prices)\n",
    "print(f\"\\nTotal: ${total:.2f}\")\n"
   ]
  },
  {
   "cell_type": "code",
   "execution_count": null,
   "id": "66eb0fbb",
   "metadata": {},
   "outputs": [],
   "source": [
    "# Quiz Game\n",
    "questions = (\n",
    "    \"How many elements are in the periodic table?: \",\n",
    "    \"Which animal lays the largest eggs?: \",\n",
    "    \"What is the most abundant gas in Earth's atmosphere?: \",\n",
    "    \"How many bones are in the human body?: \",\n",
    "    \"Which planet in the solar system is the hottest?: \"\n",
    ")\n",
    "options = (\n",
    "    (\"A. 116\", \"B. 117\", \"C. 118\", \"D. 119\"),\n",
    "    (\"A. Whale\", \"B. Crocodile\", \"C. Elephant\", \"D. Ostrich\"),\n",
    "    (\"A. Nitrogen\", \"B. Oxygen\", \"C. Carbon-Dioxide\", \"D. Hydrogen\"),\n",
    "    (\"A. 206\", \"B. 207\", \"C. 208\", \"D. 209\"),\n",
    "    (\"A. Mercury\", \"B. Venus\", \"C. Earth\", \"D. Mars\"),\n",
    ")\n",
    "answers = (\"C\", \"D\", \"A\", \"A\", \"B\")\n",
    "\n",
    "# Demo run (no input): simulate guesses\n",
    "guesses = [\"C\",\"D\",\"A\",\"B\",\"B\"]\n",
    "score = 0\n",
    "\n",
    "for i, q in enumerate(questions):\n",
    "    print(\"\\n----------------------\")\n",
    "    print(q)\n",
    "    for opt in options[i]:\n",
    "        print(opt)\n",
    "    guess = guesses[i]\n",
    "    print(\"Your guess:\", guess)\n",
    "    if guess == answers[i]:\n",
    "        score += 1\n",
    "        print(\"CORRECT!\")\n",
    "    else:\n",
    "        print(\"INCORRECT! Correct:\", answers[i])\n",
    "\n",
    "print(\"\\n----------------------\")\n",
    "print(\"RESULTS\")\n",
    "print(f\"Score: {score}/{len(questions)} = {int(score/len(questions)*100)}%\")\n"
   ]
  },
  {
   "cell_type": "code",
   "execution_count": null,
   "id": "12cb1801",
   "metadata": {},
   "outputs": [],
   "source": [
    "# Dice Roller\n",
    "import random\n",
    "\n",
    "dice_art = {\n",
    "    1: (\"┌─────────┐\",\"│         │\",\"│    ●    │\",\"│         │\",\"└─────────┘\"),\n",
    "    2: (\"┌─────────┐\",\"│  ●      │\",\"│         │\",\"│      ●  │\",\"└─────────┘\"),\n",
    "    3: (\"┌─────────┐\",\"│  ●      │\",\"│    ●    │\",\"│      ●  │\",\"└─────────┘\"),\n",
    "    4: (\"┌─────────┐\",\"│  ●   ●  │\",\"│         │\",\"│  ●   ●  │\",\"└─────────┘\"),\n",
    "    5: (\"┌─────────┐\",\"│  ●   ●  │\",\"│    ●    │\",\"│  ●   ●  │\",\"└─────────┘\"),\n",
    "    6: (\"┌─────────┐\",\"│  ●   ●  │\",\"│  ●   ●  │\",\"│  ●   ●  │\",\"└─────────┘\")\n",
    "}\n",
    "\n",
    "def roll_dice(num_of_dice=3):\n",
    "    dice = [random.randint(1,6) for _ in range(num_of_dice)]\n",
    "    for line in range(5):\n",
    "        print(\"\".join(dice_art[d][line] for d in dice))\n",
    "    print(\"total:\", sum(dice))\n",
    "\n",
    "roll_dice(3)\n"
   ]
  },
  {
   "cell_type": "code",
   "execution_count": null,
   "id": "348c46db",
   "metadata": {},
   "outputs": [],
   "source": [
    "# Simple substitution cipher(Encrypt/Decrypt)\n",
    "import random, string\n",
    "chars = \" \" + string.punctuation + string.digits + string.ascii_letters\n",
    "chars = list(chars)\n",
    "key = chars.copy()\n",
    "random.shuffle(key)\n",
    "\n",
    "def encrypt(plain_text):\n",
    "    cipher_text = \"\"\n",
    "    for ch in plain_text:\n",
    "        idx = chars.index(ch)\n",
    "        cipher_text += key[idx]\n",
    "    return cipher_text\n",
    "\n",
    "def decrypt(cipher_text):\n",
    "    plain = \"\"\n",
    "    for ch in cipher_text:\n",
    "        idx = key.index(ch)\n",
    "        plain += chars[idx]\n",
    "    return plain\n",
    "\n",
    "msg = \"Hello, World! 123\"\n",
    "enc = encrypt(msg)\n",
    "dec = decrypt(enc)\n",
    "print(\"original:\", msg)\n",
    "print(\"encrypted:\", enc)\n",
    "print(\"decrypted:\", dec)\n"
   ]
  },
  {
   "cell_type": "markdown",
   "id": "1ccea812",
   "metadata": {},
   "source": [
    "# 17) Exception\n",
    "events detected during execution that interrupt the flow of a program"
   ]
  },
  {
   "cell_type": "code",
   "execution_count": null,
   "id": "05117e05",
   "metadata": {},
   "outputs": [],
   "source": [
    "try:\n",
    "    numerator = int(input(\"Enter numerator: \"))\n",
    "    denominator = int(input(\"Enter denominator: \"))\n",
    "    result = numerator / denominator\n",
    "except ValueError:\n",
    "    print(\"Invalid input! Please enter integers only.\")\n",
    "except ZeroDivisionError:\n",
    "    print(\"Error! Division by zero is not allowed.\")\n",
    "except Exception as e:\n",
    "    print(f\"An unexpected error occurred: {e}\")\n",
    "else:\n",
    "    print(f\"The result is: {result}\")"
   ]
  },
  {
   "cell_type": "code",
   "execution_count": null,
   "id": "9f0cc67c",
   "metadata": {},
   "outputs": [],
   "source": [
    "\n",
    "# A safe input pattern using try/except and strip/upper/lower\n",
    "def ask_int(prompt, min_val=None, max_val=None):\n",
    "    while True:\n",
    "        raw = input(prompt).strip()\n",
    "        try:\n",
    "            val = int(raw)\n",
    "            if (min_val is not None and val < min_val) or (max_val is not None and val > max_val):\n",
    "                print(f\"Please enter a number between {min_val} and {max_val}.\")\n",
    "                continue\n",
    "            return val\n",
    "        except ValueError:\n",
    "            print(\"Please enter a valid integer.\")\n",
    "\n",
    "def ask_float(prompt, min_val=None):\n",
    "    while True:\n",
    "        raw = input(prompt).strip()\n",
    "        try:\n",
    "            val = float(raw)\n",
    "            if min_val is not None and val < min_val:\n",
    "                print(f\"Please enter a value >= {min_val}.\")\n",
    "                continue\n",
    "            return val\n",
    "        except ValueError:\n",
    "            print(\"Please enter a valid number.\")\n",
    "\n",
    "print(\"Try ask_int() and ask_float() above if you want to accept user input safely.\")\n"
   ]
  },
  {
   "cell_type": "markdown",
   "id": "89d1aaa8",
   "metadata": {},
   "source": [
    "# 18) Iterables & Membership Operators"
   ]
  },
  {
   "cell_type": "code",
   "execution_count": null,
   "id": "63675d21",
   "metadata": {},
   "outputs": [],
   "source": [
    "\n",
    "my_list = [1,2,3,4,5]\n",
    "my_tuple = (1,2,3,4,5)\n",
    "my_set = {\"apple\",\"orange\",\"banana\",\"coconut\"}\n",
    "my_name = \"Bro Code\"\n",
    "my_dict = {'A':1,'B':2,'C':3}\n",
    "\n",
    "for item in my_list: pass\n",
    "for k in my_dict: pass\n",
    "for v in my_dict.values(): pass\n",
    "for k,v in my_dict.items(): pass\n",
    "\n",
    "word = \"APPLE\"\n",
    "print(\"P\" in word, \"Z\" in word)\n",
    "\n",
    "students = {\"Spongebob\",\"Patrick\",\"Sandy\"}\n",
    "print(\"Sandy\" in students, \"Squidward\" in students)\n",
    "\n",
    "grades = {\"Sandy\":'A',\"Squidward\":'B',\"Spongebob\":'C',\"Patrick\":'D'}\n",
    "print(\"Sandy\" in grades, grades.get(\"Sandy\"))\n",
    "email = \"BroCode@gmail.com\"\n",
    "print(\"Valid email\" if (\"@\" in email and \".\" in email) else \"Invalid email\")\n"
   ]
  },
  {
   "cell_type": "markdown",
   "id": "06ac1498",
   "metadata": {},
   "source": [
    "# 19) List Comprehensions"
   ]
  },
  {
   "cell_type": "code",
   "execution_count": null,
   "id": "ea30fc4c",
   "metadata": {},
   "outputs": [],
   "source": [
    "\n",
    "doubles = [x*2 for x in range(1,11)]\n",
    "triples = [y*3 for y in range(1,11)]\n",
    "squares = [z*z for z in range(1,11)]\n",
    "\n",
    "fruits = [\"apple\",\"orange\",\"banana\",\"coconut\"]\n",
    "uppercase = [f.upper() for f in fruits]\n",
    "first_chars = [f[0] for f in fruits]\n",
    "\n",
    "numbers = [1,-2,3,-4,5,-6,8,-7]\n",
    "positive = [x for x in numbers if x >= 0]\n",
    "negative = [x for x in numbers if x < 0]\n",
    "even = [x for x in numbers if x % 2 == 0]\n",
    "odd = [x for x in numbers if x % 2 == 1]\n",
    "\n",
    "grades = [85,42,79,90,56,61,30]\n",
    "passing = [g for g in grades if g >= 60]\n",
    "\n",
    "print(doubles, triples, squares)\n",
    "print(uppercase, first_chars)\n",
    "print(positive, negative, even, odd, passing)\n"
   ]
  }
 ],
 "metadata": {
  "kernelspec": {
   "display_name": "Python 3",
   "language": "python",
   "name": "python3"
  },
  "language_info": {
   "codemirror_mode": {
    "name": "ipython",
    "version": 3
   },
   "file_extension": ".py",
   "mimetype": "text/x-python",
   "name": "python",
   "nbconvert_exporter": "python",
   "pygments_lexer": "ipython3",
   "version": "3.13.6"
  }
 },
 "nbformat": 4,
 "nbformat_minor": 5
}
